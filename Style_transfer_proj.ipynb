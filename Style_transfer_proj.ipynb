{
  "nbformat": 4,
  "nbformat_minor": 0,
  "metadata": {
    "colab": {
      "provenance": [],
      "gpuType": "T4",
      "include_colab_link": true
    },
    "kernelspec": {
      "name": "python3",
      "display_name": "Python 3"
    },
    "language_info": {
      "name": "python"
    },
    "accelerator": "GPU"
  },
  "cells": [
    {
      "cell_type": "markdown",
      "metadata": {
        "id": "view-in-github",
        "colab_type": "text"
      },
      "source": [
        "<a href=\"https://colab.research.google.com/github/Tuychiev99/joel99/blob/main/Style_transfer_proj.ipynb\" target=\"_parent\"><img src=\"https://colab.research.google.com/assets/colab-badge.svg\" alt=\"Open In Colab\"/></a>"
      ]
    },
    {
      "cell_type": "code",
      "source": [
        "!git clone https://github.com/igreat/fast-style-transfer.git"
      ],
      "metadata": {
        "colab": {
          "base_uri": "https://localhost:8080/"
        },
        "id": "fOzjDAQAVDmh",
        "outputId": "a50f3c76-b1b8-4d8d-db38-4302b2e2bcfe",
        "collapsed": true
      },
      "execution_count": null,
      "outputs": [
        {
          "output_type": "stream",
          "name": "stdout",
          "text": [
            "Cloning into 'fast-style-transfer'...\n",
            "remote: Enumerating objects: 229, done.\u001b[K\n",
            "remote: Counting objects: 100% (12/12), done.\u001b[K\n",
            "remote: Compressing objects: 100% (9/9), done.\u001b[K\n",
            "remote: Total 229 (delta 5), reused 6 (delta 3), pack-reused 217 (from 1)\u001b[K\n",
            "Receiving objects: 100% (229/229), 191.29 MiB | 32.17 MiB/s, done.\n",
            "Resolving deltas: 100% (110/110), done.\n",
            "Updating files: 100% (40/40), done.\n"
          ]
        }
      ]
    },
    {
      "cell_type": "code",
      "source": [
        "%cd fast-style-transfer"
      ],
      "metadata": {
        "colab": {
          "base_uri": "https://localhost:8080/"
        },
        "id": "WP_BM-uhVh0Z",
        "outputId": "b979f65e-215a-44d1-c6f7-010dedfaf1d8",
        "collapsed": true
      },
      "execution_count": null,
      "outputs": [
        {
          "output_type": "stream",
          "name": "stdout",
          "text": [
            "/content/fast-style-transfer\n"
          ]
        }
      ]
    },
    {
      "cell_type": "code",
      "source": [
        "from google.colab import drive\n",
        "drive.mount('/content/drive')"
      ],
      "metadata": {
        "id": "Tqe-ZHWoJSJa"
      },
      "execution_count": null,
      "outputs": []
    },
    {
      "cell_type": "code",
      "source": [
        "import torch\n",
        "from models import loss_models, transformation_models\n",
        "from PIL import Image\n",
        "from torchvision.utils import save_image\n",
        "from torchvision.transforms.functional import pil_to_tensor, resize\n",
        "from utils import preprocess_image, deprocess_image\n",
        "\n",
        "device = \"cuda\" if torch.cuda.is_available() else \"cpu\""
      ],
      "metadata": {
        "id": "2Sxv3I1virOl"
      },
      "execution_count": null,
      "outputs": []
    },
    {
      "cell_type": "code",
      "source": [
        "img_name = \"download.jpeg\" # 이미지 이름 넣기\n",
        "image_path = \"/content/\" + img_name"
      ],
      "metadata": {
        "id": "_Cq1_A_2i-Sl"
      },
      "execution_count": null,
      "outputs": []
    },
    {
      "cell_type": "code",
      "source": [
        "# model_path = \"saved_models/starry_night_pretrained.pth\"\n",
        "model_path = \"saved_models/mosaic_pretrained.pth\"\n",
        "# model_path = \"saved_models/abstract_pretrained.pth\"\n",
        "# model_path = \"saved_models/rain_princess_pretrained.pth\""
      ],
      "metadata": {
        "id": "f7qX7P6wjs_W"
      },
      "execution_count": null,
      "outputs": []
    },
    {
      "cell_type": "code",
      "source": [
        "save_path = \"/content/result.png\""
      ],
      "metadata": {
        "id": "-6o2QEHakCy6"
      },
      "execution_count": null,
      "outputs": []
    },
    {
      "cell_type": "code",
      "source": [
        "mean = loss_models.VGG16Loss.MEAN.to(device)\n",
        "std = loss_models.VGG16Loss.STD.to(device)\n",
        "img = pil_to_tensor((Image.open(image_path)).convert(\"RGB\")).to(device)\n",
        "img = preprocess_image(img, mean, std)\n",
        "\n",
        "transformation_model = transformation_models.TransformationModel().to(device).eval()\n",
        "\n",
        "# code to load pretrained model\n",
        "checkpoint = torch.load(model_path, map_location=device)\n",
        "transformation_model.load_state_dict(checkpoint[\"model_state_dict\"])\n",
        "\n",
        "transformation_model.requires_grad_(False)\n",
        "\n",
        "gen_image = transformation_model(img)\n",
        "gen_image = deprocess_image(gen_image, mean, std)\n",
        "\n",
        "# saving image\n",
        "save_image(gen_image.squeeze(0), save_path)"
      ],
      "metadata": {
        "colab": {
          "base_uri": "https://localhost:8080/"
        },
        "id": "3dznqp-0i1UU",
        "outputId": "97317afb-1ac8-4200-cc33-15a7591037b4",
        "collapsed": true
      },
      "execution_count": null,
      "outputs": [
        {
          "output_type": "stream",
          "name": "stderr",
          "text": [
            "<ipython-input-7-f91a8fd9daa2>:9: FutureWarning: You are using `torch.load` with `weights_only=False` (the current default value), which uses the default pickle module implicitly. It is possible to construct malicious pickle data which will execute arbitrary code during unpickling (See https://github.com/pytorch/pytorch/blob/main/SECURITY.md#untrusted-models for more details). In a future release, the default value for `weights_only` will be flipped to `True`. This limits the functions that could be executed during unpickling. Arbitrary objects will no longer be allowed to be loaded via this mode unless they are explicitly allowlisted by the user via `torch.serialization.add_safe_globals`. We recommend you start setting `weights_only=True` for any use case where you don't have full control of the loaded file. Please open an issue on GitHub for any issues related to this experimental feature.\n",
            "  checkpoint = torch.load(model_path, map_location=device)\n"
          ]
        }
      ]
    },
    {
      "cell_type": "code",
      "source": [
        "# 동영상 활용\n",
        "# starry_night\n",
        "# rain_princess\n",
        "# mosaic\n",
        "# abstract\n",
        "!python stylize_video.py --video_path /content/test.mov --pretrained_model starry_night --save_path /content/styled_video.mp4"
      ],
      "metadata": {
        "colab": {
          "base_uri": "https://localhost:8080/"
        },
        "id": "VS6mkGaJ53rv",
        "outputId": "23aa0534-78e9-4912-a800-263d069ec54a",
        "collapsed": true
      },
      "execution_count": null,
      "outputs": [
        {
          "output_type": "stream",
          "name": "stdout",
          "text": [
            "/content/fast-style-transfer/stylize_video.py:9: UserWarning: 'has_cuda' is deprecated, please use 'torch.backends.cuda.is_built()'\n",
            "  device = {torch.has_cuda: \"cuda\", torch.has_mps: \"mps\"}.get(True, \"cpu\")\n",
            "/content/fast-style-transfer/stylize_video.py:9: UserWarning: 'has_mps' is deprecated, please use 'torch.backends.mps.is_built()'\n",
            "  device = {torch.has_cuda: \"cuda\", torch.has_mps: \"mps\"}.get(True, \"cpu\")\n",
            "source video dimensions: 1620x1080\n",
            "source video frame count: 183\n",
            "source video fps: 30\n",
            "\n",
            "output video dimensions: 1620x1080\n",
            "output video frame count: 183\n",
            "output video fps: 30\n",
            "\n",
            "/content/fast-style-transfer/stylize_video.py:43: FutureWarning: You are using `torch.load` with `weights_only=False` (the current default value), which uses the default pickle module implicitly. It is possible to construct malicious pickle data which will execute arbitrary code during unpickling (See https://github.com/pytorch/pytorch/blob/main/SECURITY.md#untrusted-models for more details). In a future release, the default value for `weights_only` will be flipped to `True`. This limits the functions that could be executed during unpickling. Arbitrary objects will no longer be allowed to be loaded via this mode unless they are explicitly allowlisted by the user via `torch.serialization.add_safe_globals`. We recommend you start setting `weights_only=True` for any use case where you don't have full control of the loaded file. Please open an issue on GitHub for any issues related to this experimental feature.\n",
            "  checkpoint = torch.load(model_path, map_location=device)\n",
            "stylizing frames <0-64/183>\n",
            "from batch, stylized frame [0/64]\n",
            "from batch, stylized frame [24/64]\n",
            "from batch, stylized frame [48/64]\n",
            "styled frames successfully\n",
            "\n",
            "stylizing frames <64-128/183>\n",
            "from batch, stylized frame [0/64]\n",
            "from batch, stylized frame [24/64]\n",
            "from batch, stylized frame [48/64]\n",
            "styled frames successfully\n",
            "\n",
            "stylizing frames <128-183/183>\n",
            "from batch, stylized frame [0/55]\n",
            "from batch, stylized frame [24/55]\n",
            "from batch, stylized frame [48/55]\n",
            "styled frames successfully\n",
            "\n"
          ]
        }
      ]
    }
  ]
}